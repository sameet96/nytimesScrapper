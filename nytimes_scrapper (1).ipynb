{
  "nbformat": 4,
  "nbformat_minor": 0,
  "metadata": {
    "colab": {
      "name": "nytimes_scrapper.ipynb",
      "provenance": [],
      "collapsed_sections": []
    },
    "kernelspec": {
      "name": "python3",
      "display_name": "Python 3"
    }
  },
  "cells": [
    {
      "cell_type": "code",
      "metadata": {
        "id": "VbXalsQtNB3G"
      },
      "source": [
        "import os\r\n",
        "import json\r\n",
        "import time\r\n",
        "import requests\r\n",
        "import datetime\r\n",
        "import dateutil\r\n",
        "import pandas as pd\r\n",
        "from dateutil.relativedelta import relativedelta\r\n",
        "from google.colab import drive"
      ],
      "execution_count": null,
      "outputs": []
    },
    {
      "cell_type": "code",
      "metadata": {
        "colab": {
          "base_uri": "https://localhost:8080/",
          "height": 35
        },
        "id": "dPbzwKnCRhJi",
        "outputId": "f40c915b-30fe-4e5e-fcf3-52000883d3c9"
      },
      "source": [
        "pwd\r\n"
      ],
      "execution_count": null,
      "outputs": [
        {
          "output_type": "execute_result",
          "data": {
            "application/vnd.google.colaboratory.intrinsic+json": {
              "type": "string"
            },
            "text/plain": [
              "'/content'"
            ]
          },
          "metadata": {
            "tags": []
          },
          "execution_count": 15
        }
      ]
    },
    {
      "cell_type": "markdown",
      "metadata": {
        "id": "okep51IfRxYp"
      },
      "source": [
        "# New Section"
      ]
    },
    {
      "cell_type": "code",
      "metadata": {
        "colab": {
          "base_uri": "https://localhost:8080/"
        },
        "id": "XyKVcU2-QpD9",
        "outputId": "7c62d79a-96b1-476e-9729-5acc785b5910"
      },
      "source": [
        "drive.mount('/drive')"
      ],
      "execution_count": null,
      "outputs": [
        {
          "output_type": "stream",
          "text": [
            "Mounted at /drive\n"
          ],
          "name": "stdout"
        }
      ]
    },
    {
      "cell_type": "code",
      "metadata": {
        "colab": {
          "base_uri": "https://localhost:8080/"
        },
        "id": "9ZWpUGAoNJly",
        "outputId": "eff9e5fb-fcd0-4b18-d586-c10e5b914bbb"
      },
      "source": [
        "end = datetime.date.today()\r\n",
        "start = end - relativedelta(years=5)\r\n",
        "print(end, start)"
      ],
      "execution_count": null,
      "outputs": [
        {
          "output_type": "stream",
          "text": [
            "2020-12-26 2015-12-26\n"
          ],
          "name": "stdout"
        }
      ]
    },
    {
      "cell_type": "code",
      "metadata": {
        "colab": {
          "base_uri": "https://localhost:8080/"
        },
        "id": "y2d9Sh8tNL4u",
        "outputId": "15b777c6-ee19-4bb2-c69e-5d8867bd0b0b"
      },
      "source": [
        "months_in_range = [x.split(' ') for x in pd.date_range(start, end, freq='MS').strftime(\"%Y %-m\").tolist()]\r\n",
        "print(months_in_range)"
      ],
      "execution_count": null,
      "outputs": [
        {
          "output_type": "stream",
          "text": [
            "[['2016', '1'], ['2016', '2'], ['2016', '3'], ['2016', '4'], ['2016', '5'], ['2016', '6'], ['2016', '7'], ['2016', '8'], ['2016', '9'], ['2016', '10'], ['2016', '11'], ['2016', '12'], ['2017', '1'], ['2017', '2'], ['2017', '3'], ['2017', '4'], ['2017', '5'], ['2017', '6'], ['2017', '7'], ['2017', '8'], ['2017', '9'], ['2017', '10'], ['2017', '11'], ['2017', '12'], ['2018', '1'], ['2018', '2'], ['2018', '3'], ['2018', '4'], ['2018', '5'], ['2018', '6'], ['2018', '7'], ['2018', '8'], ['2018', '9'], ['2018', '10'], ['2018', '11'], ['2018', '12'], ['2019', '1'], ['2019', '2'], ['2019', '3'], ['2019', '4'], ['2019', '5'], ['2019', '6'], ['2019', '7'], ['2019', '8'], ['2019', '9'], ['2019', '10'], ['2019', '11'], ['2019', '12'], ['2020', '1'], ['2020', '2'], ['2020', '3'], ['2020', '4'], ['2020', '5'], ['2020', '6'], ['2020', '7'], ['2020', '8'], ['2020', '9'], ['2020', '10'], ['2020', '11'], ['2020', '12']]\n"
          ],
          "name": "stdout"
        }
      ]
    },
    {
      "cell_type": "code",
      "metadata": {
        "id": "DdoboLrYMCQO"
      },
      "source": [
        "def send_request(date):\r\n",
        "    '''Sends a request to the NYT Archive API for given date.'''\r\n",
        "    base_url = 'https://api.nytimes.com/svc/archive/v1/'\r\n",
        "    url = base_url  + date[0] + '/' + date[1] + '.json?api-key=' + 'WNG5DC1p1Eoz95qXkk8I0bDaBjeWvANn'\r\n",
        "    response = requests.get(url).json()\r\n",
        "    time.sleep(6)\r\n",
        "    return response\r\n",
        "\r\n",
        "\r\n",
        "def is_valid(article, date):\r\n",
        "    '''An article is only worth checking if it is in range, and has a headline.'''\r\n",
        "    is_in_range = date > start and date < end\r\n",
        "    has_headline = type(article['headline']) == dict and 'main' in article['headline'].keys()\r\n",
        "    return is_in_range and has_headline\r\n",
        "\r\n",
        "\r\n",
        "def parse_response(response):\r\n",
        "    '''Parses and returns response as pandas data frame.'''\r\n",
        "    data = {'headline': [],  \r\n",
        "        'date': [], \r\n",
        "        'doc_type': [],\r\n",
        "        'material_type': [],\r\n",
        "        'section': [],\r\n",
        "        'keywords': []}\r\n",
        "    \r\n",
        "    articles = response['response']['docs'] \r\n",
        "\r\n",
        "    for article in articles: # For each article, make sure it falls within our date range\r\n",
        "        date = dateutil.parser.parse(article['pub_date']).date()\r\n",
        "        # print(article['section_name'])\r\n",
        "        if is_valid(article, date):\r\n",
        "            data['date'].append(date)\r\n",
        "            data['headline'].append(article['headline']['main']) \r\n",
        "            if 'section_name' in article:\r\n",
        "                data['section'].append(article['section_name'])\r\n",
        "            else:\r\n",
        "                data['section'].append(None)\r\n",
        "            data['doc_type'].append(article['document_type'])\r\n",
        "            if 'type_of_material' in article: \r\n",
        "                data['material_type'].append(article['type_of_material'])\r\n",
        "            else:\r\n",
        "                data['material_type'].append(None)\r\n",
        "            keywords = [keyword['value'] for keyword in article['keywords'] if keyword['name'] == 'subject']\r\n",
        "            data['keywords'].append(keywords)\r\n",
        "    return pd.DataFrame(data) \r\n",
        "\r\n",
        "\r\n",
        "def get_data(dates):\r\n",
        "    '''Sends and parses request/response to/from NYT Archive API for given dates.'''\r\n",
        "    total = 0\r\n",
        "    print('Date range: ' + str(dates[0]) + ' to ' + str(dates[-1]))\r\n",
        "    if not os.path.exists('headlines'):\r\n",
        "        os.mkdir('headlines')\r\n",
        "    for date in dates:\r\n",
        "        response = send_request(date)\r\n",
        "        df = parse_response(response)\r\n",
        "        total += len(df)\r\n",
        "        df.to_csv('headlines/' + date[0] + '-' + date[1] + '.csv', index=False)\r\n",
        "        print('Saving headlines/' + date[0] + '-' + date[1] + '.csv...')\r\n",
        "    print('Number of articles collected: ' + str(total))\r\n"
      ],
      "execution_count": null,
      "outputs": []
    },
    {
      "cell_type": "code",
      "metadata": {
        "colab": {
          "base_uri": "https://localhost:8080/"
        },
        "id": "97x9zSZUNEhp",
        "outputId": "8361a84f-8ca5-440b-8801-20bed2a3b75d"
      },
      "source": [
        "get_data(months_in_range)"
      ],
      "execution_count": null,
      "outputs": [
        {
          "output_type": "stream",
          "text": [
            "Date range: ['2016', '1'] to ['2020', '12']\n",
            "Saving headlines/2016-1.csv...\n",
            "Saving headlines/2016-2.csv...\n",
            "Saving headlines/2016-3.csv...\n",
            "Saving headlines/2016-4.csv...\n",
            "Saving headlines/2016-5.csv...\n",
            "Saving headlines/2016-6.csv...\n",
            "Saving headlines/2016-7.csv...\n",
            "Saving headlines/2016-8.csv...\n",
            "Saving headlines/2016-9.csv...\n",
            "Saving headlines/2016-10.csv...\n",
            "Saving headlines/2016-11.csv...\n",
            "Saving headlines/2016-12.csv...\n",
            "Saving headlines/2017-1.csv...\n",
            "Saving headlines/2017-2.csv...\n",
            "Saving headlines/2017-3.csv...\n",
            "Saving headlines/2017-4.csv...\n",
            "Saving headlines/2017-5.csv...\n",
            "Saving headlines/2017-6.csv...\n",
            "Saving headlines/2017-7.csv...\n",
            "Saving headlines/2017-8.csv...\n",
            "Saving headlines/2017-9.csv...\n",
            "Saving headlines/2017-10.csv...\n",
            "Saving headlines/2017-11.csv...\n",
            "Saving headlines/2017-12.csv...\n",
            "Saving headlines/2018-1.csv...\n",
            "Saving headlines/2018-2.csv...\n",
            "Saving headlines/2018-3.csv...\n",
            "Saving headlines/2018-4.csv...\n",
            "Saving headlines/2018-5.csv...\n",
            "Saving headlines/2018-6.csv...\n",
            "Saving headlines/2018-7.csv...\n",
            "Saving headlines/2018-8.csv...\n",
            "Saving headlines/2018-9.csv...\n",
            "Saving headlines/2018-10.csv...\n",
            "Saving headlines/2018-11.csv...\n",
            "Saving headlines/2018-12.csv...\n",
            "Saving headlines/2019-1.csv...\n",
            "Saving headlines/2019-2.csv...\n",
            "Saving headlines/2019-3.csv...\n",
            "Saving headlines/2019-4.csv...\n",
            "Saving headlines/2019-5.csv...\n",
            "Saving headlines/2019-6.csv...\n",
            "Saving headlines/2019-7.csv...\n",
            "Saving headlines/2019-8.csv...\n",
            "Saving headlines/2019-9.csv...\n",
            "Saving headlines/2019-10.csv...\n",
            "Saving headlines/2019-11.csv...\n",
            "Saving headlines/2019-12.csv...\n",
            "Saving headlines/2020-1.csv...\n",
            "Saving headlines/2020-2.csv...\n",
            "Saving headlines/2020-3.csv...\n",
            "Saving headlines/2020-4.csv...\n",
            "Saving headlines/2020-5.csv...\n",
            "Saving headlines/2020-6.csv...\n",
            "Saving headlines/2020-7.csv...\n",
            "Saving headlines/2020-8.csv...\n",
            "Saving headlines/2020-9.csv...\n",
            "Saving headlines/2020-10.csv...\n",
            "Saving headlines/2020-11.csv...\n",
            "Saving headlines/2020-12.csv...\n",
            "Number of articles collected: 296956\n"
          ],
          "name": "stdout"
        }
      ]
    },
    {
      "cell_type": "code",
      "metadata": {
        "colab": {
          "base_uri": "https://localhost:8080/",
          "height": 367
        },
        "id": "snQFHMm59eib",
        "outputId": "5117e6f0-0b7e-4240-bdb9-5fd0ace13e17"
      },
      "source": [
        ""
      ],
      "execution_count": null,
      "outputs": [
        {
          "output_type": "error",
          "ename": "ModuleNotFoundError",
          "evalue": "ignored",
          "traceback": [
            "\u001b[0;31m---------------------------------------------------------------------------\u001b[0m",
            "\u001b[0;31mModuleNotFoundError\u001b[0m                       Traceback (most recent call last)",
            "\u001b[0;32m<ipython-input-1-7e77fba16dec>\u001b[0m in \u001b[0;36m<module>\u001b[0;34m()\u001b[0m\n\u001b[1;32m      1\u001b[0m \u001b[0;34m\u001b[0m\u001b[0m\n\u001b[1;32m      2\u001b[0m \u001b[0;32mfrom\u001b[0m \u001b[0msklearn\u001b[0m\u001b[0;34m.\u001b[0m\u001b[0mensemble\u001b[0m \u001b[0;32mimport\u001b[0m \u001b[0mRandomForestClassifier\u001b[0m\u001b[0;34m\u001b[0m\u001b[0;34m\u001b[0m\u001b[0m\n\u001b[0;32m----> 3\u001b[0;31m \u001b[0;32mfrom\u001b[0m \u001b[0mexplainerdashboard\u001b[0m \u001b[0;32mimport\u001b[0m \u001b[0mClassifierExplainer\u001b[0m\u001b[0;34m,\u001b[0m \u001b[0mExplainerDashboard\u001b[0m\u001b[0;34m\u001b[0m\u001b[0;34m\u001b[0m\u001b[0m\n\u001b[0m\u001b[1;32m      4\u001b[0m \u001b[0;32mfrom\u001b[0m \u001b[0mexplainerdashboard\u001b[0m\u001b[0;34m.\u001b[0m\u001b[0mdatasets\u001b[0m \u001b[0;32mimport\u001b[0m \u001b[0mtitanic_survive\u001b[0m\u001b[0;34m,\u001b[0m \u001b[0mfeature_descriptions\u001b[0m\u001b[0;34m\u001b[0m\u001b[0;34m\u001b[0m\u001b[0m\n\u001b[1;32m      5\u001b[0m \u001b[0;34m\u001b[0m\u001b[0m\n",
            "\u001b[0;31mModuleNotFoundError\u001b[0m: No module named 'explainerdashboard'",
            "",
            "\u001b[0;31m---------------------------------------------------------------------------\u001b[0;32m\nNOTE: If your import is failing due to a missing package, you can\nmanually install dependencies using either !pip or !apt.\n\nTo view examples of installing some common dependencies, click the\n\"Open Examples\" button below.\n\u001b[0;31m---------------------------------------------------------------------------\u001b[0m\n"
          ]
        }
      ]
    },
    {
      "cell_type": "code",
      "metadata": {
        "colab": {
          "base_uri": "https://localhost:8080/"
        },
        "id": "YaErEA-_9iyE",
        "outputId": "0c10a076-d8a6-4359-fa48-9538625715d4"
      },
      "source": [
        "pip install explainerdashboard\r\n"
      ],
      "execution_count": null,
      "outputs": [
        {
          "output_type": "stream",
          "text": [
            "Collecting explainerdashboard\n",
            "\u001b[?25l  Downloading https://files.pythonhosted.org/packages/f8/43/9c9efd4660486dd9fa685e178c5664504c93e2a83e8dc8c11289d545e640/explainerdashboard-0.2.18.1-py3-none-any.whl (196kB)\n",
            "\u001b[K     |████████████████████████████████| 204kB 11.4MB/s \n",
            "\u001b[?25hCollecting waitress\n",
            "\u001b[?25l  Downloading https://files.pythonhosted.org/packages/26/d1/5209fb8c764497a592363c47054436a515b47b8c3e4970ddd7184f088857/waitress-1.4.4-py2.py3-none-any.whl (58kB)\n",
            "\u001b[K     |████████████████████████████████| 61kB 5.0MB/s \n",
            "\u001b[?25hCollecting dash-bootstrap-components\n",
            "\u001b[?25l  Downloading https://files.pythonhosted.org/packages/1d/26/17f8b18a79bae9e278b7674ad0aef8007e87b4d2280525a95103fd2a8fe5/dash_bootstrap_components-0.11.1-py2.py3-none-any.whl (187kB)\n",
            "\u001b[K     |████████████████████████████████| 194kB 18.9MB/s \n",
            "\u001b[?25hRequirement already satisfied: click in /usr/local/lib/python3.6/dist-packages (from explainerdashboard) (7.1.2)\n",
            "Collecting dash\n",
            "\u001b[?25l  Downloading https://files.pythonhosted.org/packages/dd/17/55244363969638edd1151de0ea4aa10e6a7849b42d7d0994e3082514e19d/dash-1.18.1.tar.gz (74kB)\n",
            "\u001b[K     |████████████████████████████████| 81kB 7.5MB/s \n",
            "\u001b[?25hCollecting oyaml\n",
            "  Downloading https://files.pythonhosted.org/packages/37/aa/111610d8bf5b1bb7a295a048fc648cec346347a8b0be5881defd2d1b4a52/oyaml-1.0-py2.py3-none-any.whl\n",
            "Collecting flask-simplelogin\n",
            "  Downloading https://files.pythonhosted.org/packages/14/f3/5aa36ed74abdd32ca5c6394e71244df962d795cb9f9c850238c889e5e4da/flask_simplelogin-0.0.7-py2.py3-none-any.whl\n",
            "Collecting dash-auth\n",
            "\u001b[?25l  Downloading https://files.pythonhosted.org/packages/79/0f/344b6cd09ae1b3210a534b4fd370d1e513a315d0703c9797f85aba9a4d08/dash_auth-1.4.1.tar.gz (470kB)\n",
            "\u001b[K     |████████████████████████████████| 471kB 12.4MB/s \n",
            "\u001b[?25hCollecting shap>=0.36\n",
            "\u001b[?25l  Downloading https://files.pythonhosted.org/packages/85/a3/c0eab9dd6a894165e2cb87504ff5b2710ac5ede3447d9138620b7341b6a2/shap-0.37.0.tar.gz (326kB)\n",
            "\u001b[K     |████████████████████████████████| 327kB 25.5MB/s \n",
            "\u001b[?25hCollecting jupyter-dash\n",
            "\u001b[?25l  Downloading https://files.pythonhosted.org/packages/b9/b9/5f9499a0154124a262c85e3a99033b9b3a20dc3d2707b587f52b32b60d76/jupyter_dash-0.3.1-py3-none-any.whl (49kB)\n",
            "\u001b[K     |████████████████████████████████| 51kB 5.1MB/s \n",
            "\u001b[?25hCollecting shortuuid\n",
            "  Downloading https://files.pythonhosted.org/packages/25/a6/2ecc1daa6a304e7f1b216f0896b26156b78e7c38e1211e9b798b4716c53d/shortuuid-1.0.1-py3-none-any.whl\n",
            "Requirement already satisfied: scikit-learn in /usr/local/lib/python3.6/dist-packages (from explainerdashboard) (0.22.2.post1)\n",
            "Requirement already satisfied: pandas in /usr/local/lib/python3.6/dist-packages (from explainerdashboard) (1.1.5)\n",
            "Collecting PDPbox\n",
            "\u001b[?25l  Downloading https://files.pythonhosted.org/packages/87/23/ac7da5ba1c6c03a87c412e7e7b6e91a10d6ecf4474906c3e736f93940d49/PDPbox-0.2.0.tar.gz (57.7MB)\n",
            "\u001b[K     |████████████████████████████████| 57.7MB 70kB/s \n",
            "\u001b[?25hRequirement already satisfied: joblib in /usr/local/lib/python3.6/dist-packages (from explainerdashboard) (1.0.0)\n",
            "Collecting dtreeviz>=1.0\n",
            "\u001b[?25l  Downloading https://files.pythonhosted.org/packages/31/57/37124098be67a2edf55c909c77b634d1723abecb54b8ded3e7b3b02af384/dtreeviz-1.1.3.tar.gz (49kB)\n",
            "\u001b[K     |████████████████████████████████| 51kB 5.7MB/s \n",
            "\u001b[?25hRequirement already satisfied: numpy in /usr/local/lib/python3.6/dist-packages (from explainerdashboard) (1.19.4)\n",
            "Requirement already satisfied: Flask>=1.0.4 in /usr/local/lib/python3.6/dist-packages (from dash->explainerdashboard) (1.1.2)\n",
            "Collecting flask-compress\n",
            "  Downloading https://files.pythonhosted.org/packages/b2/7a/9c4641f975fb9daaf945dc39da6a52fd5693ab3bbc2d53780eab3b5106f4/Flask_Compress-1.8.0-py3-none-any.whl\n",
            "Requirement already satisfied: plotly in /usr/local/lib/python3.6/dist-packages (from dash->explainerdashboard) (4.4.1)\n",
            "Collecting dash_renderer==1.8.3\n",
            "\u001b[?25l  Downloading https://files.pythonhosted.org/packages/72/fe/59a322edb128ad15205002c7b81e3f5e580f6791c4a100183289e05dbfcb/dash_renderer-1.8.3.tar.gz (1.0MB)\n",
            "\u001b[K     |████████████████████████████████| 1.0MB 48.8MB/s \n",
            "\u001b[?25hCollecting dash-core-components==1.14.1\n",
            "\u001b[?25l  Downloading https://files.pythonhosted.org/packages/0f/ab/5ffeeed41117383d02485f5b9204dcfaa074bfbb3ff2559afac7b904ad5c/dash_core_components-1.14.1.tar.gz (3.5MB)\n",
            "\u001b[K     |████████████████████████████████| 3.5MB 42.7MB/s \n",
            "\u001b[?25hCollecting dash-html-components==1.1.1\n",
            "\u001b[?25l  Downloading https://files.pythonhosted.org/packages/02/ba/bb9427c62feb25bfbaf243894eeeb4e7c67a92b426ed0575a167100e436e/dash_html_components-1.1.1.tar.gz (188kB)\n",
            "\u001b[K     |████████████████████████████████| 194kB 50.8MB/s \n",
            "\u001b[?25hCollecting dash-table==4.11.1\n",
            "\u001b[?25l  Downloading https://files.pythonhosted.org/packages/79/4b/de20584b7dc82dc6e572e8b596d21b1c6e39f13d19e8c9e6f1d67bed67fd/dash_table-4.11.1.tar.gz (1.8MB)\n",
            "\u001b[K     |████████████████████████████████| 1.8MB 45.5MB/s \n",
            "\u001b[?25hRequirement already satisfied: future in /usr/local/lib/python3.6/dist-packages (from dash->explainerdashboard) (0.16.0)\n",
            "Requirement already satisfied: pyyaml in /usr/local/lib/python3.6/dist-packages (from oyaml->explainerdashboard) (3.13)\n",
            "Collecting flask_wtf\n",
            "  Downloading https://files.pythonhosted.org/packages/36/a9/8c01171066bd7a524ee005d81bb4a8aa446ab178043a1ad6cb5dc8f0bd83/Flask_WTF-0.14.3-py2.py3-none-any.whl\n",
            "Collecting chart_studio>=1.0.0\n",
            "\u001b[?25l  Downloading https://files.pythonhosted.org/packages/ca/ce/330794a6b6ca4b9182c38fc69dd2a9cbff60fd49421cb8648ee5fee352dc/chart_studio-1.1.0-py3-none-any.whl (64kB)\n",
            "\u001b[K     |████████████████████████████████| 71kB 7.4MB/s \n",
            "\u001b[?25hCollecting flask-seasurf\n",
            "  Downloading https://files.pythonhosted.org/packages/9b/24/28e73616f4c8a8d1c265248a9c7cc12715b286cbfef90f1227a3402792f2/Flask-SeaSurf-0.2.2.tar.gz\n",
            "Requirement already satisfied: requests in /usr/local/lib/python3.6/dist-packages (from dash-auth->explainerdashboard) (2.23.0)\n",
            "Requirement already satisfied: retrying in /usr/local/lib/python3.6/dist-packages (from dash-auth->explainerdashboard) (1.3.3)\n",
            "Requirement already satisfied: itsdangerous>=1.1.0 in /usr/local/lib/python3.6/dist-packages (from dash-auth->explainerdashboard) (1.1.0)\n",
            "Collecting ua_parser\n",
            "  Downloading https://files.pythonhosted.org/packages/9d/22/4d16b08db329fd440eed366d35e4dd7195c9babb4ecac5218f28081522a2/ua_parser-0.10.0-py2.py3-none-any.whl\n",
            "Requirement already satisfied: scipy in /usr/local/lib/python3.6/dist-packages (from shap>=0.36->explainerdashboard) (1.4.1)\n",
            "Requirement already satisfied: tqdm>4.25.0 in /usr/local/lib/python3.6/dist-packages (from shap>=0.36->explainerdashboard) (4.41.1)\n",
            "Collecting slicer==0.0.3\n",
            "  Downloading https://files.pythonhosted.org/packages/02/a6/c708c5a0f338e99cfbcb6288b88794525548e4fc1b8457feec2c552a81a4/slicer-0.0.3-py3-none-any.whl\n",
            "Requirement already satisfied: numba in /usr/local/lib/python3.6/dist-packages (from shap>=0.36->explainerdashboard) (0.48.0)\n",
            "Requirement already satisfied: ipython in /usr/local/lib/python3.6/dist-packages (from jupyter-dash->explainerdashboard) (5.5.0)\n",
            "Requirement already satisfied: ipykernel in /usr/local/lib/python3.6/dist-packages (from jupyter-dash->explainerdashboard) (4.10.1)\n",
            "Collecting ansi2html\n",
            "  Downloading https://files.pythonhosted.org/packages/c6/85/3a46be84afbb16b392a138cd396117f438c7b2e91d8dc327621d1ae1b5dc/ansi2html-1.6.0-py3-none-any.whl\n",
            "Requirement already satisfied: pytz>=2017.2 in /usr/local/lib/python3.6/dist-packages (from pandas->explainerdashboard) (2018.9)\n",
            "Requirement already satisfied: python-dateutil>=2.7.3 in /usr/local/lib/python3.6/dist-packages (from pandas->explainerdashboard) (2.8.1)\n",
            "Requirement already satisfied: matplotlib>=2.1.2 in /usr/local/lib/python3.6/dist-packages (from PDPbox->explainerdashboard) (3.2.2)\n",
            "Requirement already satisfied: psutil in /usr/local/lib/python3.6/dist-packages (from PDPbox->explainerdashboard) (5.4.8)\n",
            "Requirement already satisfied: graphviz>=0.9 in /usr/local/lib/python3.6/dist-packages (from dtreeviz>=1.0->explainerdashboard) (0.10.1)\n",
            "Collecting colour\n",
            "  Downloading https://files.pythonhosted.org/packages/74/46/e81907704ab203206769dee1385dc77e1407576ff8f50a0681d0a6b541be/colour-0.1.5-py2.py3-none-any.whl\n",
            "Requirement already satisfied: xgboost in /usr/local/lib/python3.6/dist-packages (from dtreeviz>=1.0->explainerdashboard) (0.90)\n",
            "Requirement already satisfied: pytest in /usr/local/lib/python3.6/dist-packages (from dtreeviz>=1.0->explainerdashboard) (3.6.4)\n",
            "Collecting pyspark\n",
            "\u001b[?25l  Downloading https://files.pythonhosted.org/packages/f0/26/198fc8c0b98580f617cb03cb298c6056587b8f0447e20fa40c5b634ced77/pyspark-3.0.1.tar.gz (204.2MB)\n",
            "\u001b[K     |████████████████████████████████| 204.2MB 68kB/s \n",
            "\u001b[?25hRequirement already satisfied: Jinja2>=2.10.1 in /usr/local/lib/python3.6/dist-packages (from Flask>=1.0.4->dash->explainerdashboard) (2.11.2)\n",
            "Requirement already satisfied: Werkzeug>=0.15 in /usr/local/lib/python3.6/dist-packages (from Flask>=1.0.4->dash->explainerdashboard) (1.0.1)\n",
            "Collecting brotli\n",
            "\u001b[?25l  Downloading https://files.pythonhosted.org/packages/b4/d3/7c98f05b7b9103e2f3a112ba42f269c798155b3e5404fb80bb8f823aaebe/Brotli-1.0.9-cp36-cp36m-manylinux1_x86_64.whl (357kB)\n",
            "\u001b[K     |████████████████████████████████| 358kB 46.8MB/s \n",
            "\u001b[?25hRequirement already satisfied: six in /usr/local/lib/python3.6/dist-packages (from plotly->dash->explainerdashboard) (1.15.0)\n",
            "Collecting WTForms\n",
            "\u001b[?25l  Downloading https://files.pythonhosted.org/packages/e0/31/614fc7dc7d76005b0acb8c0c8920d962b83d7422b4ba912886dfb63f86ff/WTForms-2.3.3-py2.py3-none-any.whl (169kB)\n",
            "\u001b[K     |████████████████████████████████| 174kB 52.8MB/s \n",
            "\u001b[?25hRequirement already satisfied: idna<3,>=2.5 in /usr/local/lib/python3.6/dist-packages (from requests->dash-auth->explainerdashboard) (2.10)\n",
            "Requirement already satisfied: urllib3!=1.25.0,!=1.25.1,<1.26,>=1.21.1 in /usr/local/lib/python3.6/dist-packages (from requests->dash-auth->explainerdashboard) (1.24.3)\n",
            "Requirement already satisfied: certifi>=2017.4.17 in /usr/local/lib/python3.6/dist-packages (from requests->dash-auth->explainerdashboard) (2020.12.5)\n",
            "Requirement already satisfied: chardet<4,>=3.0.2 in /usr/local/lib/python3.6/dist-packages (from requests->dash-auth->explainerdashboard) (3.0.4)\n",
            "Requirement already satisfied: setuptools in /usr/local/lib/python3.6/dist-packages (from numba->shap>=0.36->explainerdashboard) (51.0.0)\n",
            "Requirement already satisfied: llvmlite<0.32.0,>=0.31.0dev0 in /usr/local/lib/python3.6/dist-packages (from numba->shap>=0.36->explainerdashboard) (0.31.0)\n",
            "Requirement already satisfied: decorator in /usr/local/lib/python3.6/dist-packages (from ipython->jupyter-dash->explainerdashboard) (4.4.2)\n",
            "Requirement already satisfied: pickleshare in /usr/local/lib/python3.6/dist-packages (from ipython->jupyter-dash->explainerdashboard) (0.7.5)\n",
            "Requirement already satisfied: traitlets>=4.2 in /usr/local/lib/python3.6/dist-packages (from ipython->jupyter-dash->explainerdashboard) (4.3.3)\n",
            "Requirement already satisfied: pexpect; sys_platform != \"win32\" in /usr/local/lib/python3.6/dist-packages (from ipython->jupyter-dash->explainerdashboard) (4.8.0)\n",
            "Requirement already satisfied: simplegeneric>0.8 in /usr/local/lib/python3.6/dist-packages (from ipython->jupyter-dash->explainerdashboard) (0.8.1)\n",
            "Requirement already satisfied: prompt-toolkit<2.0.0,>=1.0.4 in /usr/local/lib/python3.6/dist-packages (from ipython->jupyter-dash->explainerdashboard) (1.0.18)\n",
            "Requirement already satisfied: pygments in /usr/local/lib/python3.6/dist-packages (from ipython->jupyter-dash->explainerdashboard) (2.6.1)\n",
            "Requirement already satisfied: tornado>=4.0 in /usr/local/lib/python3.6/dist-packages (from ipykernel->jupyter-dash->explainerdashboard) (5.1.1)\n",
            "Requirement already satisfied: jupyter-client in /usr/local/lib/python3.6/dist-packages (from ipykernel->jupyter-dash->explainerdashboard) (5.3.5)\n",
            "Requirement already satisfied: kiwisolver>=1.0.1 in /usr/local/lib/python3.6/dist-packages (from matplotlib>=2.1.2->PDPbox->explainerdashboard) (1.3.1)\n",
            "Requirement already satisfied: pyparsing!=2.0.4,!=2.1.2,!=2.1.6,>=2.0.1 in /usr/local/lib/python3.6/dist-packages (from matplotlib>=2.1.2->PDPbox->explainerdashboard) (2.4.7)\n",
            "Requirement already satisfied: cycler>=0.10 in /usr/local/lib/python3.6/dist-packages (from matplotlib>=2.1.2->PDPbox->explainerdashboard) (0.10.0)\n",
            "Requirement already satisfied: attrs>=17.4.0 in /usr/local/lib/python3.6/dist-packages (from pytest->dtreeviz>=1.0->explainerdashboard) (20.3.0)\n",
            "Requirement already satisfied: py>=1.5.0 in /usr/local/lib/python3.6/dist-packages (from pytest->dtreeviz>=1.0->explainerdashboard) (1.10.0)\n",
            "Requirement already satisfied: pluggy<0.8,>=0.5 in /usr/local/lib/python3.6/dist-packages (from pytest->dtreeviz>=1.0->explainerdashboard) (0.7.1)\n",
            "Requirement already satisfied: more-itertools>=4.0.0 in /usr/local/lib/python3.6/dist-packages (from pytest->dtreeviz>=1.0->explainerdashboard) (8.6.0)\n",
            "Requirement already satisfied: atomicwrites>=1.0 in /usr/local/lib/python3.6/dist-packages (from pytest->dtreeviz>=1.0->explainerdashboard) (1.4.0)\n",
            "Collecting py4j==0.10.9\n",
            "\u001b[?25l  Downloading https://files.pythonhosted.org/packages/9e/b6/6a4fb90cd235dc8e265a6a2067f2a2c99f0d91787f06aca4bcf7c23f3f80/py4j-0.10.9-py2.py3-none-any.whl (198kB)\n",
            "\u001b[K     |████████████████████████████████| 204kB 58.4MB/s \n",
            "\u001b[?25hRequirement already satisfied: MarkupSafe>=0.23 in /usr/local/lib/python3.6/dist-packages (from Jinja2>=2.10.1->Flask>=1.0.4->dash->explainerdashboard) (1.1.1)\n",
            "Requirement already satisfied: ipython-genutils in /usr/local/lib/python3.6/dist-packages (from traitlets>=4.2->ipython->jupyter-dash->explainerdashboard) (0.2.0)\n",
            "Requirement already satisfied: ptyprocess>=0.5 in /usr/local/lib/python3.6/dist-packages (from pexpect; sys_platform != \"win32\"->ipython->jupyter-dash->explainerdashboard) (0.6.0)\n",
            "Requirement already satisfied: wcwidth in /usr/local/lib/python3.6/dist-packages (from prompt-toolkit<2.0.0,>=1.0.4->ipython->jupyter-dash->explainerdashboard) (0.2.5)\n",
            "Requirement already satisfied: jupyter-core>=4.6.0 in /usr/local/lib/python3.6/dist-packages (from jupyter-client->ipykernel->jupyter-dash->explainerdashboard) (4.7.0)\n",
            "Requirement already satisfied: pyzmq>=13 in /usr/local/lib/python3.6/dist-packages (from jupyter-client->ipykernel->jupyter-dash->explainerdashboard) (20.0.0)\n",
            "Building wheels for collected packages: dash, dash-auth, shap, PDPbox, dtreeviz, dash-renderer, dash-core-components, dash-html-components, dash-table, flask-seasurf, pyspark\n",
            "  Building wheel for dash (setup.py) ... \u001b[?25l\u001b[?25hdone\n",
            "  Created wheel for dash: filename=dash-1.18.1-cp36-none-any.whl size=83681 sha256=1e465e5d330e9181ead383aa09c25887d0f3babfdd02e06f4e77a42cab2f6fbb\n",
            "  Stored in directory: /root/.cache/pip/wheels/eb/56/fb/79b2169ce9fcb79753ec57a16abb8f0b7750b4c63d7eb3cea9\n",
            "  Building wheel for dash-auth (setup.py) ... \u001b[?25l\u001b[?25hdone\n",
            "  Created wheel for dash-auth: filename=dash_auth-1.4.1-cp36-none-any.whl size=476152 sha256=1405d30900af9dd0ae7ccb3e6f7457f52b3545b3abb5c1e08576c3019f36c5f6\n",
            "  Stored in directory: /root/.cache/pip/wheels/9b/6d/64/a95a7e2050ba581161fcf27f862806368bbc34b998e6bc2d37\n",
            "  Building wheel for shap (setup.py) ... \u001b[?25l\u001b[?25hdone\n",
            "  Created wheel for shap: filename=shap-0.37.0-cp36-cp36m-linux_x86_64.whl size=463899 sha256=369fc7643f3d971a698fd4d4e3c60ca9c5cf75b94c2da4381da15a21fbed403c\n",
            "  Stored in directory: /root/.cache/pip/wheels/df/ad/b0/aa7815ec68850d66551ef618095eccb962c8f6022f1d3dd989\n",
            "  Building wheel for PDPbox (setup.py) ... \u001b[?25l\u001b[?25hdone\n",
            "  Created wheel for PDPbox: filename=PDPbox-0.2.0-cp36-none-any.whl size=57690724 sha256=36ffff0bf25a6e859d0bf31d1dcf6d490b7ead5ee1636bb84e665ac1e50662e8\n",
            "  Stored in directory: /root/.cache/pip/wheels/7d/08/51/63fd122b04a2c87d780464eeffb94867c75bd96a64d500a3fe\n",
            "  Building wheel for dtreeviz (setup.py) ... \u001b[?25l\u001b[?25hdone\n",
            "  Created wheel for dtreeviz: filename=dtreeviz-1.1.3-cp36-none-any.whl size=52494 sha256=c7708d2272519b0a1e96e4dd3b4a7a557c07e3cf32026eaa0f20f1d179f2e2d3\n",
            "  Stored in directory: /root/.cache/pip/wheels/80/a9/1e/4751fda06e88399ee09410646e9d55c88787276f9537b8ebd0\n",
            "  Building wheel for dash-renderer (setup.py) ... \u001b[?25l\u001b[?25hdone\n",
            "  Created wheel for dash-renderer: filename=dash_renderer-1.8.3-cp36-none-any.whl size=1013945 sha256=7f1a9904df73e045a04830f7eced17f2ad2279706b20758efd7df99fba9b8fb4\n",
            "  Stored in directory: /root/.cache/pip/wheels/cf/2b/5f/0928a6d1b7ebf280f21a2e925f36d662e6ba83e00b82c6b6bf\n",
            "  Building wheel for dash-core-components (setup.py) ... \u001b[?25l\u001b[?25hdone\n",
            "  Created wheel for dash-core-components: filename=dash_core_components-1.14.1-cp36-none-any.whl size=3525927 sha256=a54cf42a3da63ab3a077c94366b986980a8e9f084a3d8ca3fa5ad905b802dafe\n",
            "  Stored in directory: /root/.cache/pip/wheels/e3/20/48/9022e1f2cb2fed4d9925370d0e17cbb3ab1164f3742d9b5e5a\n",
            "  Building wheel for dash-html-components (setup.py) ... \u001b[?25l\u001b[?25hdone\n",
            "  Created wheel for dash-html-components: filename=dash_html_components-1.1.1-cp36-none-any.whl size=427894 sha256=903f6bae228c0fbf55b07597e46bd23dd1028964abade1094b510c86894c3619\n",
            "  Stored in directory: /root/.cache/pip/wheels/8d/01/46/78e4de185a8a4a2da8ba31da16c52170f036d4cebeeb6e07a2\n",
            "  Building wheel for dash-table (setup.py) ... \u001b[?25l\u001b[?25hdone\n",
            "  Created wheel for dash-table: filename=dash_table-4.11.1-cp36-none-any.whl size=1839869 sha256=bdbc9e8f42d03a3ef1ab188d042b9be6e54eadce7e385c950d849ac26e2a5832\n",
            "  Stored in directory: /root/.cache/pip/wheels/53/a0/0e/1105943524ee7060c5c45a22e45c77777a3d8801f2fe49e445\n",
            "  Building wheel for flask-seasurf (setup.py) ... \u001b[?25l\u001b[?25hdone\n",
            "  Created wheel for flask-seasurf: filename=Flask_SeaSurf-0.2.2-cp36-none-any.whl size=5561 sha256=13cdd93e2b1f3349232fd806e54ce3d3c7f7728b008f79550370805bbb9eff18\n",
            "  Stored in directory: /root/.cache/pip/wheels/75/4a/8e/ca53c401e38aa1e0e6cd626c9bc3ef5230e362e385358779fb\n",
            "  Building wheel for pyspark (setup.py) ... \u001b[?25l\u001b[?25hdone\n",
            "  Created wheel for pyspark: filename=pyspark-3.0.1-py2.py3-none-any.whl size=204612242 sha256=e971d4d0f3ec33ef2fd42789783a66666afb3849e0f2a690bcec70ab91a52ddc\n",
            "  Stored in directory: /root/.cache/pip/wheels/5e/bd/07/031766ca628adec8435bb40f0bd83bb676ce65ff4007f8e73f\n",
            "Successfully built dash dash-auth shap PDPbox dtreeviz dash-renderer dash-core-components dash-html-components dash-table flask-seasurf pyspark\n",
            "Installing collected packages: waitress, brotli, flask-compress, dash-renderer, dash-core-components, dash-html-components, dash-table, dash, dash-bootstrap-components, oyaml, WTForms, flask-wtf, flask-simplelogin, chart-studio, flask-seasurf, ua-parser, dash-auth, slicer, shap, ansi2html, jupyter-dash, shortuuid, PDPbox, colour, py4j, pyspark, dtreeviz, explainerdashboard\n",
            "Successfully installed PDPbox-0.2.0 WTForms-2.3.3 ansi2html-1.6.0 brotli-1.0.9 chart-studio-1.1.0 colour-0.1.5 dash-1.18.1 dash-auth-1.4.1 dash-bootstrap-components-0.11.1 dash-core-components-1.14.1 dash-html-components-1.1.1 dash-renderer-1.8.3 dash-table-4.11.1 dtreeviz-1.1.3 explainerdashboard-0.2.18.1 flask-compress-1.8.0 flask-seasurf-0.2.2 flask-simplelogin-0.0.7 flask-wtf-0.14.3 jupyter-dash-0.3.1 oyaml-1.0 py4j-0.10.9 pyspark-3.0.1 shap-0.37.0 shortuuid-1.0.1 slicer-0.0.3 ua-parser-0.10.0 waitress-1.4.4\n"
          ],
          "name": "stdout"
        }
      ]
    },
    {
      "cell_type": "code",
      "metadata": {
        "colab": {
          "base_uri": "https://localhost:8080/",
          "height": 391
        },
        "id": "YyD8Nj0Z94x6",
        "outputId": "b0957e72-02d5-4ec1-b48c-78f1b0d4cd38"
      },
      "source": [
        "pip install explainerdashboard\r\n",
        "\r\n",
        "from sklearn.ensemble import RandomForestClassifier\r\n",
        "from explainerdashboard import ClassifierExplainer, ExplainerDashboard\r\n",
        "from explainerdashboard.datasets import titanic_survive, feature_descriptions\r\n",
        "\r\n",
        "X_train, y_train, X_test, y_test = titanic_survive()\r\n",
        "model = RandomForestClassifier(n_estimators=50, max_depth=10).fit(X_train, y_train)\r\n",
        "explainer = ClassifierExplainer(model, X_test, y_test, cats=['Sex', 'Deck', 'Embarked'], descriptions=feature_descriptions, labels=['Not survived', 'Survived'])\r\n",
        "ExplainerDashboard(explainer).run()"
      ],
      "execution_count": null,
      "outputs": [
        {
          "output_type": "stream",
          "text": [
            "Note: shap=='guess' so guessing for RandomForestClassifier shap='tree'...\n",
            "Note: model_output=='probability', so assuming that raw shap output of RandomForestClassifier is in probability space...\n",
            "Generating self.shap_explainer = shap.TreeExplainer(model)\n",
            "Detected RandomForestClassifier model: Changing class type to RandomForestClassifierExplainer...\n",
            "Building ExplainerDashboard..\n",
            "Detected google colab environment, setting mode='external'\n",
            "Warning: calculating shap interaction values can be slow! Pass shap_interaction=False to remove interactions tab.\n",
            "Generating layout...\n",
            "Calculating shap values...\n",
            "Calculating dependencies...\n",
            "Calculating categorical permutation importances (if slow, try setting n_jobs parameter)...\n",
            "Calculating permutation importances (if slow, try setting n_jobs parameter)...\n",
            "Calculating predictions...\n",
            "Calculating prediction probabilities...\n",
            "Calculating pred_percentiles...\n",
            "Calculating shap interaction values...\n",
            "Reminder: TreeShap computational complexity is O(TLD^2), where T is the number of trees, L is the maximum number of leaves in any tree and D the maximal depth of any tree. So reducing these will speed up the calculation.\n",
            "Calculating ShadowDecTree for each individual decision tree...\n",
            "Reminder: you can store the explainer (including calculated dependencies) with explainer.dump('explainer.joblib') and reload with e.g. ClassifierExplainer.from_file('explainer.joblib')\n",
            "Registering callbacks...\n",
            "Dash app running on:\n"
          ],
          "name": "stdout"
        },
        {
          "output_type": "display_data",
          "data": {
            "application/javascript": [
              "(async (port, path, text, element) => {\n",
              "    if (!google.colab.kernel.accessAllowed) {\n",
              "      return;\n",
              "    }\n",
              "    element.appendChild(document.createTextNode(''));\n",
              "    const url = await google.colab.kernel.proxyPort(port);\n",
              "    const anchor = document.createElement('a');\n",
              "    anchor.href = url + path;\n",
              "    anchor.target = '_blank';\n",
              "    anchor.setAttribute('data-href', url + path);\n",
              "    anchor.textContent = text;\n",
              "    element.appendChild(anchor);\n",
              "  })(8050, \"/\", \"http://127.0.0.1:8050/\", window.element)"
            ],
            "text/plain": [
              "<IPython.core.display.Javascript object>"
            ]
          },
          "metadata": {
            "tags": []
          }
        }
      ]
    },
    {
      "cell_type": "code",
      "metadata": {
        "colab": {
          "base_uri": "https://localhost:8080/"
        },
        "id": "g4tQMNIu-mUE",
        "outputId": "cc0954ed-6ac1-431b-aebe-78cb5d91e30c"
      },
      "source": [
        "print(X_train.describe)"
      ],
      "execution_count": null,
      "outputs": [
        {
          "output_type": "stream",
          "text": [
            "<bound method NDFrame.describe of                                              Fare  ...  Embarked_Unknown\n",
            "Passenger                                          ...                  \n",
            "Braund, Mr. Owen Harris                    7.2500  ...                 0\n",
            "Heikkinen, Miss. Laina                     7.9250  ...                 0\n",
            "Allen, Mr. William Henry                   8.0500  ...                 0\n",
            "Moran, Mr. James                           8.4583  ...                 0\n",
            "McCarthy, Mr. Timothy J                   51.8625  ...                 0\n",
            "...                                           ...  ...               ...\n",
            "Rice, Mrs. William (Margaret Norton)      29.1250  ...                 0\n",
            "Graham, Miss. Margaret Edith              30.0000  ...                 0\n",
            "Johnston, Miss. Catherine Helen \"Carrie\"  23.4500  ...                 0\n",
            "Behr, Mr. Karl Howell                     30.0000  ...                 0\n",
            "Dooley, Mr. Patrick                        7.7500  ...                 0\n",
            "\n",
            "[691 rows x 21 columns]>\n"
          ],
          "name": "stdout"
        }
      ]
    }
  ]
}